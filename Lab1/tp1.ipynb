{
 "cells": [
  {
   "cell_type": "code",
   "execution_count": 2,
   "metadata": {},
   "outputs": [
    {
     "data": {
      "text/html": [
       "<div>\n",
       "<style scoped>\n",
       "    .dataframe tbody tr th:only-of-type {\n",
       "        vertical-align: middle;\n",
       "    }\n",
       "\n",
       "    .dataframe tbody tr th {\n",
       "        vertical-align: top;\n",
       "    }\n",
       "\n",
       "    .dataframe thead th {\n",
       "        text-align: right;\n",
       "    }\n",
       "</style>\n",
       "<table border=\"1\" class=\"dataframe\">\n",
       "  <thead>\n",
       "    <tr style=\"text-align: right;\">\n",
       "      <th></th>\n",
       "      <th>1 ⭐</th>\n",
       "      <th>2 ⭐</th>\n",
       "      <th>3 ⭐</th>\n",
       "      <th>4 ⭐</th>\n",
       "      <th>5 ⭐</th>\n",
       "    </tr>\n",
       "  </thead>\n",
       "  <tbody>\n",
       "    <tr>\n",
       "      <th>000100039X</th>\n",
       "      <td>6</td>\n",
       "      <td>4</td>\n",
       "      <td>8</td>\n",
       "      <td>15</td>\n",
       "      <td>173</td>\n",
       "    </tr>\n",
       "    <tr>\n",
       "      <th>0001055178</th>\n",
       "      <td>0</td>\n",
       "      <td>4</td>\n",
       "      <td>2</td>\n",
       "      <td>10</td>\n",
       "      <td>2</td>\n",
       "    </tr>\n",
       "    <tr>\n",
       "      <th>0001473123</th>\n",
       "      <td>1</td>\n",
       "      <td>0</td>\n",
       "      <td>0</td>\n",
       "      <td>2</td>\n",
       "      <td>13</td>\n",
       "    </tr>\n",
       "    <tr>\n",
       "      <th>0001473727</th>\n",
       "      <td>0</td>\n",
       "      <td>0</td>\n",
       "      <td>0</td>\n",
       "      <td>0</td>\n",
       "      <td>7</td>\n",
       "    </tr>\n",
       "    <tr>\n",
       "      <th>0001473905</th>\n",
       "      <td>0</td>\n",
       "      <td>0</td>\n",
       "      <td>1</td>\n",
       "      <td>0</td>\n",
       "      <td>5</td>\n",
       "    </tr>\n",
       "    <tr>\n",
       "      <th>...</th>\n",
       "      <td>...</td>\n",
       "      <td>...</td>\n",
       "      <td>...</td>\n",
       "      <td>...</td>\n",
       "      <td>...</td>\n",
       "    </tr>\n",
       "    <tr>\n",
       "      <th>0060534095</th>\n",
       "      <td>0</td>\n",
       "      <td>0</td>\n",
       "      <td>0</td>\n",
       "      <td>1</td>\n",
       "      <td>4</td>\n",
       "    </tr>\n",
       "    <tr>\n",
       "      <th>0060534214</th>\n",
       "      <td>5</td>\n",
       "      <td>5</td>\n",
       "      <td>4</td>\n",
       "      <td>19</td>\n",
       "      <td>22</td>\n",
       "    </tr>\n",
       "    <tr>\n",
       "      <th>0060534249</th>\n",
       "      <td>2</td>\n",
       "      <td>2</td>\n",
       "      <td>5</td>\n",
       "      <td>12</td>\n",
       "      <td>17</td>\n",
       "    </tr>\n",
       "    <tr>\n",
       "      <th>0060534389</th>\n",
       "      <td>1</td>\n",
       "      <td>3</td>\n",
       "      <td>9</td>\n",
       "      <td>30</td>\n",
       "      <td>23</td>\n",
       "    </tr>\n",
       "    <tr>\n",
       "      <th>0060534397</th>\n",
       "      <td>0</td>\n",
       "      <td>0</td>\n",
       "      <td>3</td>\n",
       "      <td>15</td>\n",
       "      <td>11</td>\n",
       "    </tr>\n",
       "  </tbody>\n",
       "</table>\n",
       "<p>2641 rows × 5 columns</p>\n",
       "</div>"
      ],
      "text/plain": [
       "            1 ⭐  2 ⭐  3 ⭐  4 ⭐  5 ⭐\n",
       "000100039X    6    4    8   15  173\n",
       "0001055178    0    4    2   10    2\n",
       "0001473123    1    0    0    2   13\n",
       "0001473727    0    0    0    0    7\n",
       "0001473905    0    0    1    0    5\n",
       "...         ...  ...  ...  ...  ...\n",
       "0060534095    0    0    0    1    4\n",
       "0060534214    5    5    4   19   22\n",
       "0060534249    2    2    5   12   17\n",
       "0060534389    1    3    9   30   23\n",
       "0060534397    0    0    3   15   11\n",
       "\n",
       "[2641 rows x 5 columns]"
      ]
     },
     "execution_count": 2,
     "metadata": {},
     "output_type": "execute_result"
    }
   ],
   "source": [
    "import json\n",
    "import math\n",
    "import pandas as pd\n",
    "import numpy as np\n",
    "import seaborn as sns\n",
    "import matplotlib.pyplot as plt\n",
    "\n",
    "asinToIndex = {}\n",
    "index = 0\n",
    "scoreMatrix = []\n",
    "booksAsin = []\n",
    "chunks = pd.read_json(\n",
    "    '../Dataset/Books.json', lines=True, chunksize=100000, \n",
    "    typ=\"frame\", orient=\"records\", dtype={\"asin\": str, \"overall\": int}\n",
    ")\n",
    "\n",
    "for chunk in chunks:\n",
    "    for _, item in chunk.iterrows():\n",
    "        asin = item[\"asin\"]\n",
    "        rate = item[\"overall\"]\n",
    "\n",
    "        if (asin not in asinToIndex):\n",
    "            scoreMatrix.append([0,0,0,0,0])\n",
    "            booksAsin.append(asin)\n",
    "            asinToIndex[asin] = index\n",
    "            index += 1\n",
    "\n",
    "        row = asinToIndex[asin]\n",
    "        scoreMatrix[row][rate-1] += 1\n",
    "    break # comment to load everything\n",
    "\n",
    "scoreMatrix = np.array(scoreMatrix)\n",
    "pdScoreMat = pd.DataFrame(\n",
    "    data=scoreMatrix,\n",
    "    index=booksAsin,\n",
    "    columns=[f\"{i} ⭐\" for i in range(1, 6)]\n",
    ")\n",
    "pdScoreMat"
   ]
  },
  {
   "cell_type": "code",
   "execution_count": 3,
   "metadata": {},
   "outputs": [
    {
     "name": "stdout",
     "output_type": "stream",
     "text": [
      "Nb rating = [206  18  16 ...  38  66  29]\n",
      "Average rating = [4.67475728 3.55555556 4.625      ... 4.05263158 4.07575758 4.27586207]\n",
      "Rating's standard deviation = [4.67475728 3.55555556 4.625      ... 4.05263158 4.07575758 4.27586207]\n",
      "Max rating = [ 593  450  644  846 2605], Min Rating = [0 0 0 0 0]\n",
      "Rating quantile : Q1 = [0. 0. 0. 1. 3.], Q2 = [0. 0. 1. 3. 6.], Q3 = [ 1.  1.  3.  7. 14.]\n"
     ]
    }
   ],
   "source": [
    "nbRating = np.sum(scoreMatrix, axis=1)\n",
    "print(f\"Nb rating = {nbRating}\")\n",
    "avgRatings = (np.average(scoreMatrix, axis=1, weights=[1,2,3,4,5]) * 15) / nbRating\n",
    "print(f\"Average rating = {avgRatings}\")\n",
    "\n",
    "stdRatings = np.std(scoreMatrix, axis=0)\n",
    "print(f\"Rating's standard deviation = {avgRatings}\")\n",
    "\n",
    "maxRating = np.max(scoreMatrix, axis=0)\n",
    "minRating = np.min(scoreMatrix, axis=0)\n",
    "print(f\"Max rating = {maxRating}, Min Rating = {minRating}\")\n",
    "\n",
    "ratingQ1 = np.quantile(scoreMatrix, 0.25, axis=0)\n",
    "ratingQ2 = np.quantile(scoreMatrix, 0.5, axis=0)\n",
    "ratingQ3 = np.quantile(scoreMatrix, 0.75, axis=0)\n",
    "print(f\"Rating quantile : Q1 = {ratingQ1}, Q2 = {ratingQ2}, Q3 = {ratingQ3}\")"
   ]
  },
  {
   "cell_type": "code",
   "execution_count": 4,
   "metadata": {},
   "outputs": [
    {
     "name": "stdout",
     "output_type": "stream",
     "text": [
      "Top 3 books : ['0060011076', '0006151329', '0060267879'], Bottom 3 books : ['006000455X', '006052846X', '0028642600']\n",
      "First Quantile of Best books : ['0060011076', '0006151329', '0060267879', '0060267887', '0060107790', '0060089113', '0060089083', '0028643909', '0060269952', '0025174304', '0006481353', '0060514485', '002520260X', '0007160003', '0007156790', '0060153180', '0002250357', '0060193042', '0006513778', '0007268939', '0060087390', '0060105518', '0007192932', '0060511141', '0060220732', '0007222017', '0029166837', '006023640X', '006050871X', '0007232616', '0029174317', '0060232196', '000617681X', '0029216052', '0060265051', '002907990X', '0029079373', '0004723023', '0029077354', '0060257016', '0007202474', '0030007380', '006009110X', '0027083314', '006015649X', '0060156783', '0028609891', '0028640004', '0027651908', '0060532459', '0060532467', '0028639197', '0060186275', '0007339615', '0060174021', '0060519150', '0027436284', '0028629051', '0007111444', '0028627377', '0060011823', '0060393742', '000735018X', '0001473727', '0060177950', '003069549X', '0006749526', '0060531649', '0060159391', '0060285230', '0027180905', '0060287802', '0060530642', '0007299109', '006015828X', '0027375862', '0007481136', '006029485X', '0060523786', '0060295015', '0060295317', '0060161744', '006016400X', '0060002506', '0060164786', '0006647782', '0060239662', '0060525614', '0007446128', '0028603958', '0060256753', '0060532297', '0027291855', '0030173868', '0060160101', '0060256710', '002079990X', '0060007281', '0060088605', '0007312547', '0060504285', '006029129X', '0060187662', '0060176385', '0060283025', '0007503156', '0007524404', '0007320817', '0007261497', '0060507020', '0060094702', '0060094672', '0060210745', '0060256559', '0060256672', '0060161922', '0007468598', '0002621509', '0060175435', '0028613198', '0060244240', '0060525851', '0060164662', '0060007362', '0006917801', '0060152311', '0060188928', '0060145994', '0060125403', '0060522518', '0060509309', '0007491298', '0060158085', '0060006196', '0060511117', '0007530919', '0020443005', '0060268654', '006000150X', '0029197821', '0007118481', '0060525657', '0060214163', '0028639758', '0060012560', '0006544894', '0060392436', '0060007982', '000712693X', '000744785X', '0007106246', '0027888304', '0060169419', '0007137540', '0060294515', '0060526149', '0060292458', '0060513187', '0060210982', '0060099062', '0020119305', '002011690X', '006027560X', '0026070510', '0007500920', '0007158505', '0002113570', '0060095563', '0028612922', '0020777507', '0060198516', '0060525630', '003055442X', '0060507861', '0007326033', '0007341857', '0028623371', '006018261X', '0007425597', '0060224320', '0060266082', '0020209851', '0025955004', '0060519215', '0060198214', '0060266880', '0060508922', '0060196556', '0060283637', '0007132417', '0007450168', '0007135653', '0060515902', '0007525575', '0060504048', '0060195290', '0060273208', '0007148089', '0060202130', '0060508159', '0007333463', '0060082879', '0030769809', '0060099526', '0006733271', '0060124369', '006016784X', '006009012X', '0002551543', '0060171030', '0060097930', '0028634659', '0002216973', '0060110929', '0028641825', '0060145765', '0002154129', '0060001054', '0060271396', '0060099453', '0060282983', '0007201796', '006015117X', '0007438516', '0060007761', '006027980X', '0028637275', '0007164653', '0060207507', '0020425716', '0020794304', '0024967300', '0020307209', '0020404808', '0023984155', '0020820445', '006019653X', '0020432801', '0023270705', '000717604X', '0006477097', '0060195584', '0028648854', '0029119154', '0060526300', '0060284595', '0007320183', '0007479557', '0060297921', '0060001569', '0060294604', '006000018X', '0060000147', '0060290307', '0030509262', '0029046300', '0030352991', '0060007974', '0060089164', '0029250552', '0029221307', '0060095806', '0029088801', '006052698X', '0025143204', '0060533455', '006015716X', '0027255816', '0060183969', '0028629515', '0060183837', '0060011599', '002864154X', '0006751032', '0060534095', '0025182005', '0007126409', '0060185392', '0028608151', '0060514671', '000716307X', '0007114222', '0060191856', '0006531024', '0007166664', '0060244054', '0060507829', '0002117088', '0060392932', '0024288101', '0007167040', '0060084340', '0060256575', '0060524308', '0030073227', '006018860X', '0007150342', '0006144470', '0060510234', '0026890224', '0028627350', '0060193484', '0060514337', '0025281607', '0060282282', '0028631234', '0060505222', '006018793X', '0007147201', '0007169914', '0060013249', '000215949X', '0007161263', '0002008572', '0060009314', '0060183713', '0060254920', '0060525592', '003061368X', '0060242647', '0060287209', '0030565812', '0060525509', '0029290406', '0028639073', '0060169494', '0060529423', '0060174455', '0060278196', '0060094419', '0060280069', '0060393785', '0060175842', '0060223383', '0020867506', '0028642279', '0007398433', '0060096047', '0029021901', '0060204230', '0060510293', '000766141X', '0060513608', '0060139129', '0027436292', '006026683X', '0060094931', '0027348407', '0030554624', '0060527544', '0060248025', '0060392991', '0060094958', '0060086270', '0020449313', '0060012382', '0060505923', '0060513934', '0060256532', '000255383X', '0060298898', '0060092939', '0028646851', '0007386648', '0060287616', '006050711X', '0060528036', '0025853503', '0028618904', '0060156120', '0060519606', '0060247517', '0028642589', '0007497989', '0060515007', '0060419873', '0060280735', '0030850797', '0060253754', '0060294035', '0060186372', '0060096659', '0060138459', '0023895306', '0007514913', '0027772705', '0007445466', '0060097833', '0028632346', '0060088753', '0060080949', '0028641418', '002025900X', '0060093579', '0007199058', '0006371949', '0025236601', '0060194995', '0002726874', '0028629043', '0060295864', '0007162219', '0007117868', '0060505826', '0007107951', '0030624363', '000470763X', '0007512880', '0006393659', '0002551489', '0060517840', '0060527781', '0060524030', '0029113121', '006052541X', '0002219417', '0060218053', '0060245603', '0060245867', '002782683X', '0020425651', '0030491266', '0060080930', '0060000708', '0060272376', '000724794X', '0030029945', '0007456743', '0060193220', '0028643992', '0006280862', '006000570X', '0028630238', '0060277270', '0020165811', '0060137290', '0007175175', '000736296X', '0060504072', '000100039X', '0060157119', '0060211334', '0060392088', '002921291X', '0028639588', '0028631552', '006050949X', '0060013788', '0060197455', '0028615883', '006023413X', '0006754708', '0006514952', '0007145411', '0029024501', '0007221665', '0001712772', '0060093617', '0007163223', '0007273436', '000728800X', '0007481012', '0060097914', '006000620X', '0060080957', '0060167254', '0028603672', '0029227917', '0028603605', '0029351804', '0007313969', '0024181900', '0006472648', '0060172517', '0060185422', '0060194367', '0007498748', '0060004681', '0060515023', '0060270926', '0060175834', '0029089263', '0021492638', '0060086521', '006019488X', '0060394145', '0060278145', '0060009349', '0060085568', '0060193174', '0060177977', '0002553708', '0001473905', '0060096551', '006001220X', '0060196513', '0060521260', '0007183488', '0060264306', '000221685X', '0060196807', '0002554755', '0007124015', '0007171684', '0060506083', '0060190434', '0060009225', '0007281447', '0007257031', '0060502290', '0060298774', '0029303303', '0028810120', '0028631188', '0007299273', '000733088X', '000747959X', '0060294671', '0007442637', '0060392886', '0007190611', '0002550296', '0060093749', '0060146931', '0060081651', '0060001534', '0060090731', '0060194863', '0007442629', '0007337701', '0060529326', '0030595746', '0020446519', '0060088907', '0020421907', '0060199415', '0006473334', '0007491530', '0060289333', '0060517506', '0020311605', '0060094680', '0007312520', '0007486774', '0028620054', '0007622880', '0025668609', '0060013125', '0060012358', '0028617347', '0029166500', '0007426224', '0007155018', '0028638352', '0060012110', '0060164549', '0060278676', '0001473123', '0060246421', '0007265247', '0007260989', '0060508663', '0020303955', '0025225804', '0027861317', '0006162592', '0060195711', '0060185546', '0028642384', '0028633504', '0006388515', '0007271166', '0027197107', '0028627717', '0060509066', '0002185385', '0060391685', '0060523166', '0060184698', '002863196X', '0060200502', '0029215978', '0006490603', '0026128101', '0060177209', '0029238374', '0007267444', '0060527463', '0060155477', '0060296410', '0060502932', '0060527129', '0060094613', '0060088745', '0006176550', '0007559569', '0026124157', '0060092696', '0006492460', '0020100604', '0028724305', '0029351707', '0060092904', '0020285604', '0060199296', '002870763X', '0007165641', '0060199512', '0002713624', '0060524987', '0060204729', '0002572168', '0007212712', '0029212871', '0028811259', '0060241039', '0030207916', '0060196823', '0060186259', '0060161787', '0028603869', '0060173343', '0006552021', '0007492316', '0060004797', '0060286261', '0060287500', '0007481349', '0060166517', '0060186631', '0002006715', '0007102011', '0060006641', '0060014008', '0007267142', '0060007478', '0028617436', '0028618475', '006018390X', '0028631137', '0060011726', '0028620577', '000735326X', '0060010126', '002862386X', '0060502479', '0027379108', '0020653204', '0060507047', '0006170072', '0060524006', '0002226618', '0030715342', '0007265905', '0060191546', '0060515503', '0007431201', '0060266686', '000612609X', '0060505915', '0060233346']\n"
     ]
    }
   ],
   "source": [
    "# Books sorted by average score\n",
    "sortedIndicies = np.flip(np.argsort(avgRatings)) # Ascending order\n",
    "top3Books = [booksAsin[i] for i in sortedIndicies[0:3]]\n",
    "bottom3Books = [booksAsin[i] for i in sortedIndicies[-1:-4:-1]]\n",
    "print(f\"Top 3 books : {top3Books}, Bottom 3 books : {bottom3Books}\")\n",
    "q1BestBooksAsins = [booksAsin[i] for i in sortedIndicies[0:math.ceil(len(sortedIndicies) * 0.25)]]\n",
    "print(f\"First Quantile of Best books : {q1BestBooksAsins}\")"
   ]
  },
  {
   "cell_type": "code",
   "execution_count": 5,
   "metadata": {},
   "outputs": [
    {
     "data": {
      "image/png": "[encoded data removed]",
      "text/plain": [
       "<Figure size 432x288 with 1 Axes>"
      ]
     },
     "metadata": {
      "needs_background": "light"
     },
     "output_type": "display_data"
    }
   ],
   "source": [
    "plt.boxplot(scoreMatrix)\n",
    "plt.show()"
   ]
  },
  {
   "cell_type": "code",
   "execution_count": 31,
   "metadata": {},
   "outputs": [
    {
     "name": "stdout",
     "output_type": "stream",
     "text": [
      "Eigenvector : [4.19065077 0.65182353 0.11502149 0.03191829 0.01247986]\n",
      "Eigenvalues : [[-0.43000607 -0.53147085 -0.5420341  -0.48734244  0.03646789]\n",
      " [-0.46592004 -0.33196711  0.09245368  0.70135923  0.41504687]\n",
      " [-0.48128217 -0.09377765  0.37507236  0.05101855 -0.78504207]\n",
      " [-0.46055629  0.33554744  0.49608976 -0.4777811   0.44823654]\n",
      " [-0.39277052  0.69710132 -0.55755451  0.19928598 -0.09591216]]\n",
      "Seperation percentages of PCs : [83.78128013773434, 13.031534376530264, 2.2995588234814344, 0.6381240165067785, 0.24950264574715997]\n"
     ]
    },
    {
     "data": {
      "image/png": "[encoded data removed]",
      "text/plain": [
       "<Figure size 432x288 with 1 Axes>"
      ]
     },
     "metadata": {
      "needs_background": "light"
     },
     "output_type": "display_data"
    }
   ],
   "source": [
    "# Calculating PCA\n",
    "normalizedScoreMatrix = (scoreMatrix - np.mean(scoreMatrix, axis = 0)) / np.std(scoreMatrix, axis = 0)\n",
    "# normalizedScoreMatrix -= np.mean(scoreMatrix, axis = 0)  \n",
    "scoreMatrixCov = np.cov(normalizedScoreMatrix, rowvar = False) # rowvar allows us to transpose data!\n",
    "eigenValues, eigenVectors = np.linalg.eig(scoreMatrixCov)\n",
    "print(f\"Eigenvector : {eigenValues}\")\n",
    "print(f\"Eigenvalues : {eigenVectors}\")\n",
    "\n",
    "idx = np.argsort(eigenValues)[::-1]\n",
    "evecs = eigenVectors[:,idx]\n",
    "evals = eigenValues[idx]\n",
    "\n",
    "# Variance of each Principal Component (PC)\n",
    "evalsSum = sum(evals)\n",
    "evalsVar = [ (eval/sum(evals))*100 for eval in evals ]\n",
    "print(f\"Seperation percentages of PCs : {evalsVar}\")\n",
    "\n",
    "#  PCA calculation and plotting\n",
    "projectionMatrix = np.transpose(np.transpose(evecs)[:][:2])\n",
    "scoreMatrixPCA = np.dot(normalizedScoreMatrix, projectionMatrix)\n",
    "\n",
    "# Calculate better average metric to classify books\n",
    "bayesAvgRatings = (np.average(scoreMatrix, axis=1, weights=[1,2,3,4,5]) * 15) / nbRating\n",
    "print(f\"Average rating = {avgRatings}\")\n",
    "\n",
    "x, y = np.transpose(scoreMatrixPCA)\n",
    "plt.xlim(-1,1)\n",
    "plt.ylim(-1,1)\n",
    "plt.xlabel(\"PC{}\".format(1))\n",
    "plt.ylabel(\"PC{}\".format(2))\n",
    "plt.grid()\n",
    "plt.scatter(x, y)\n",
    "plt.show()"
   ]
  }
 ],
 "metadata": {
  "kernelspec": {
   "display_name": "Python 3.9.1 64-bit",
   "language": "python",
   "name": "python3"
  },
  "language_info": {
   "codemirror_mode": {
    "name": "ipython",
    "version": 3
   },
   "file_extension": ".py",
   "mimetype": "text/x-python",
   "name": "python",
   "nbconvert_exporter": "python",
   "pygments_lexer": "ipython3",
   "version": "3.9.1"
  },
  "orig_nbformat": 4,
  "vscode": {
   "interpreter": {
    "hash": "501834c540f8b330c04c1d43ec1666643355d13f80c9caf7e1080236b3fb263f"
   }
  }
 },
 "nbformat": 4,
 "nbformat_minor": 2
}
