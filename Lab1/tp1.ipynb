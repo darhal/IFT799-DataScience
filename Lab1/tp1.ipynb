{
 "cells": [
  {
   "cell_type": "code",
   "execution_count": 10,
   "metadata": {},
   "outputs": [
    {
     "name": "stdout",
     "output_type": "stream",
     "text": [
      "[[  6   4   8  15 173]\n",
      " [  0   4   2  10   2]\n",
      " [  1   0   0   2  13]\n",
      " ...\n",
      " [  2   2   5  12  17]\n",
      " [  1   3   9  30  23]\n",
      " [  0   0   3  15  11]]\n"
     ]
    }
   ],
   "source": [
    "import json\n",
    "import pandas as pd\n",
    "import numpy as np\n",
    "import matplotlib.pyplot as plt\n",
    "\n",
    "asinToIndex = {}\n",
    "index = 0\n",
    "scoreMatrix = []\n",
    "chunks = pd.read_json(\n",
    "    '../Dataset/Books.json', lines=True, chunksize=100000, \n",
    "    typ=\"frame\", orient=\"records\", dtype={\"asin\": str, \"overall\": int}\n",
    ")\n",
    "\n",
    "for chunk in chunks:\n",
    "    for _, row in chunk.iterrows():\n",
    "        asin = row[\"asin\"]\n",
    "        rate = row[\"overall\"]\n",
    "\n",
    "        if (asin not in asinToIndex):\n",
    "            scoreMatrix.append([0,0,0,0,0])\n",
    "            asinToIndex[asin] = index\n",
    "            index += 1\n",
    "\n",
    "        row = asinToIndex[asin]\n",
    "        scoreMatrix[row][rate-1] += 1\n",
    "    break # comment to load everything\n",
    "\n",
    "scoreMatrix = np.array(scoreMatrix)\n",
    "print(scoreMatrix)"
   ]
  },
  {
   "cell_type": "code",
   "execution_count": 35,
   "metadata": {},
   "outputs": [
    {
     "name": "stdout",
     "output_type": "stream",
     "text": [
      "Nb Rating = [206  18  16 ...  38  66  29]\n",
      "Average rating = [4.67475728 3.55555556 4.625      ... 4.05263158 4.07575758 4.27586207]\n",
      "Max Rating = [ 593  450  644  846 2605], Min Rating = [0 0 0 0 0]\n"
     ]
    }
   ],
   "source": [
    "nbRating = np.sum(scoreMatrix, axis=1)\n",
    "print(f\"Nb Rating = {nbRating}\")\n",
    "avgRatings = (np.average(scoreMatrix, axis=1, weights=[1,2,3,4,5]) * 15) / nbRating\n",
    "print(f\"Average rating = {avgRatings}\")\n",
    "maxRating = np.max(scoreMatrix, axis=0)\n",
    "minRating = np.min(scoreMatrix, axis=0)\n",
    "print(f\"Max Rating = {maxRating}, Min Rating = {minRating}\")"
   ]
  },
  {
   "cell_type": "code",
   "execution_count": 29,
   "metadata": {},
   "outputs": [
    {
     "data": {
      "image/png": "[encoded data removed]",
      "text/plain": [
       "<Figure size 720x720 with 1 Axes>"
      ]
     },
     "metadata": {
      "needs_background": "light"
     },
     "output_type": "display_data"
    }
   ],
   "source": [
    "fig = plt.figure(figsize =(10, 10))\n",
    "plt.boxplot(scoreMatrix)\n",
    "plt.show()"
   ]
  }
 ],
 "metadata": {
  "kernelspec": {
   "display_name": "Python 3.9.1 64-bit",
   "language": "python",
   "name": "python3"
  },
  "language_info": {
   "codemirror_mode": {
    "name": "ipython",
    "version": 3
   },
   "file_extension": ".py",
   "mimetype": "text/x-python",
   "name": "python",
   "nbconvert_exporter": "python",
   "pygments_lexer": "ipython3",
   "version": "3.9.1"
  },
  "orig_nbformat": 4,
  "vscode": {
   "interpreter": {
    "hash": "501834c540f8b330c04c1d43ec1666643355d13f80c9caf7e1080236b3fb263f"
   }
  }
 },
 "nbformat": 4,
 "nbformat_minor": 2
}
