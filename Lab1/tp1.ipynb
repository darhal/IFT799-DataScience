{
 "cells": [
  {
   "cell_type": "code",
   "execution_count": 69,
   "metadata": {},
   "outputs": [
    {
     "name": "stdout",
     "output_type": "stream",
     "text": [
      "[[  6   4   8  15 173]\n",
      " [  0   4   2  10   2]\n",
      " [  1   0   0   2  13]\n",
      " ...\n",
      " [  0   0   0   1  12]\n",
      " [  0   0   0   1  29]\n",
      " [  0   0   0   1   6]]\n"
     ]
    }
   ],
   "source": [
    "import pandas as pd\n",
    "import numpy as np\n",
    "import json\n",
    "\n",
    "asinToIndex = {}\n",
    "index = 0\n",
    "scoreMatrix = []\n",
    "chunks = pd.read_json(\n",
    "    '../Dataset/Books.json', lines=True, chunksize=10000, \n",
    "    typ=\"frame\", orient=\"records\", dtype={\"asin\": str, \"overall\": int}\n",
    ")\n",
    "\n",
    "for chunk in chunks:\n",
    "    for _, row in chunk.iterrows():\n",
    "        asin = row[\"asin\"]\n",
    "        rate = row[\"overall\"]\n",
    "\n",
    "        if (asin not in asinToIndex):\n",
    "            scoreMatrix.append([0,0,0,0,0])\n",
    "            asinToIndex[asin] = index\n",
    "            index += 1\n",
    "\n",
    "        row = asinToIndex[asin]\n",
    "        scoreMatrix[row][rate-1] += 1\n",
    "\n",
    "scoreMatrix = np.array(scoreMatrix)\n",
    "print(scoreMatrix)"
   ]
  },
  {
   "cell_type": "code",
   "execution_count": 72,
   "metadata": {},
   "outputs": [
    {
     "name": "stdout",
     "output_type": "stream",
     "text": [
      "[4.67475728 3.55555556 4.625      ... 4.92307692 4.96666667 4.85714286]\n"
     ]
    }
   ],
   "source": [
    "avgRatings = (np.average(scoreMatrix, axis=1, weights=[1,2,3,4,5]) * 15) / (np.sum(scoreMatrix, axis=1))\n",
    "print(avgRatings)"
   ]
  }
 ],
 "metadata": {
  "kernelspec": {
   "display_name": "Python 3.9.1 64-bit",
   "language": "python",
   "name": "python3"
  },
  "language_info": {
   "codemirror_mode": {
    "name": "ipython",
    "version": 3
   },
   "file_extension": ".py",
   "mimetype": "text/x-python",
   "name": "python",
   "nbconvert_exporter": "python",
   "pygments_lexer": "ipython3",
   "version": "3.9.1"
  },
  "orig_nbformat": 4,
  "vscode": {
   "interpreter": {
    "hash": "501834c540f8b330c04c1d43ec1666643355d13f80c9caf7e1080236b3fb263f"
   }
  }
 },
 "nbformat": 4,
 "nbformat_minor": 2
}
