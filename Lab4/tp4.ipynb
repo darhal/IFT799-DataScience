{
 "cells": [
  {
   "cell_type": "code",
   "execution_count": null,
   "metadata": {},
   "outputs": [
    {
     "ename": "",
     "evalue": "",
     "output_type": "error",
     "traceback": [
      "\u001b[1;31mLes cellules en cours d’exécution avec base nécessitent ipykernel package.\n",
      "\u001b[1;31mExécutez la commande suivante pour installer 'ipykernel' dans l’environnement Python. \n",
      "\u001b[1;31mCommande : 'conda install -n base ipykernel --update-deps --force-reinstall'"
     ]
    }
   ],
   "source": [
    "import math\n",
    "import pandas as pd\n",
    "import numpy as np\n",
    "from collections import defaultdict\n",
    "\n",
    "def loadData(nbChunks = 0):\n",
    "    asinToIndex, userToIndex = {}, {}\n",
    "    asin_index, user_index = 0, 0\n",
    "    asins, users = [], []\n",
    "    rate_to_user_book = defaultdict([])\n",
    "    chunks = pd.read_json(\n",
    "        '../Dataset/Books.json', lines=True, chunksize=500000,\n",
    "        typ=\"frame\", orient=\"records\", dtype={\"asin\": str, \"overall\": int, \"unixReviewTime\": int, \"reviewerID\": str}\n",
    "    )\n",
    "    for chunk in chunks:\n",
    "        for _, item in chunk.iterrows():\n",
    "            asin = item[\"asin\"]\n",
    "            rate = item[\"overall\"]\n",
    "            user = item[\"reviewerID\"]\n",
    "            if (asin not in asinToIndex):\n",
    "                asinToIndex[asin] = asin_index\n",
    "                asins.append(asin)\n",
    "                asin_index += 1\n",
    "            if (user not in userToIndex):\n",
    "                userToIndex[user] = user_index\n",
    "                users.append(user)\n",
    "                user_index += 1\n",
    "            row = userToIndex[asin]\n",
    "            col = asinToIndex[user]\n",
    "            rate_to_user_book[rate-1].append((row, col))\n",
    "        nbChunks -= 1\n",
    "        if (nbChunks == 0): break\n",
    "    Fr1Matrix = [[None]*asin_index for _ in range(user_index)]\n",
    "    for rate, (i, j) in rate_to_user_book.items():\n",
    "        Fr1Matrix[i][j] = rate\n",
    "    Fr1DataFRame = pd.DataFrame(data=Fr1Matrix, index=users, colums=asins)\n",
    "    return Fr1DataFRame\n",
    "\n",
    "Fr1 = loadData()\n",
    "display(Fr1)"
   ]
  }
 ],
 "metadata": {
  "kernelspec": {
   "display_name": "base",
   "language": "python",
   "name": "python3"
  },
  "language_info": {
   "codemirror_mode": {
    "name": "ipython",
    "version": 3
   },
   "file_extension": ".py",
   "mimetype": "text/x-python",
   "name": "python",
   "nbconvert_exporter": "python",
   "pygments_lexer": "ipython3",
   "version": "3.7.0 (default, Jun 28 2018, 08:04:48) [MSC v.1912 64 bit (AMD64)]"
  },
  "orig_nbformat": 4,
  "vscode": {
   "interpreter": {
    "hash": "054bff7a3e40494a77b69c2839a8742333280dcacbaf25f3affaa84064d3e215"
   }
  }
 },
 "nbformat": 4,
 "nbformat_minor": 2
}
