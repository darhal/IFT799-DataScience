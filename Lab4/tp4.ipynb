{
 "cells": [
  {
   "cell_type": "code",
   "execution_count": 90,
   "metadata": {},
   "outputs": [],
   "source": [
    "import math\n",
    "import pandas as pd\n",
    "import numpy as np\n",
    "import scipy as sp\n",
    "import matplotlib.pyplot as plt\n",
    "from matplotlib.colors import ListedColormap\n",
    "\n",
    "RATES = [1,2,3,4,5]\n",
    "\n",
    "def loadData(nbChunks = 0): # <= 0 to load all chunks, positive integer to load specific number of chunks\n",
    "    reviewers = {}\n",
    "    books = {}\n",
    "    chunks = pd.read_json(\n",
    "        '../Dataset/Books.json', lines=True, chunksize=100000,\n",
    "        typ=\"frame\", orient=\"records\", dtype={\"asin\": str, \"reviewerName\": str, \"overall\": int}\n",
    "    )\n",
    "    for chunk in chunks:\n",
    "        for _, item in chunk.iterrows():\n",
    "            asin = item[\"asin\"]\n",
    "            rate = item[\"overall\"]\n",
    "            reviewerName = item[\"reviewerName\"]\n",
    "            if asin not in books:\n",
    "                books[asin] = {}\n",
    "            if reviewerName not in reviewers:\n",
    "                reviewers[reviewerName] = {}\n",
    "            books[asin][reviewerName] = rate\n",
    "            reviewers[reviewerName][asin] = rate\n",
    "        nbChunks -= 1\n",
    "        if (nbChunks == 0): break\n",
    "    data = np.array([ \n",
    "        [ books[b][r] if r in books[b] else np.nan for b in books.keys() ] for r in reviewers.keys() \n",
    "    ])\n",
    "    df = pd.DataFrame(\n",
    "        data=data,\n",
    "        index=reviewers.keys(),\n",
    "        columns=books.keys()\n",
    "    )\n",
    "    sum_of_nans_col = np.isnan(df.to_numpy()).sum(axis=0)\n",
    "    threshold = np.quantile(sum_of_nans_col, 1000/len(books.keys()))\n",
    "    # Remove all columns that contain more than X amount of NaNs\n",
    "    df = df.iloc[:, sum_of_nans_col <= threshold]\n",
    "    # Remove all rows that contain only NaNs\n",
    "    df = df.iloc[~np.isnan(df.to_numpy()).all(axis=1), :]\n",
    "    return df\n",
    "\n",
    "\n",
    "fr1 = loadData(1)\n",
    "display(fr1)"
   ]
  }
 ],
 "metadata": {
  "kernelspec": {
   "display_name": "Python 3",
   "language": "python",
   "name": "python3"
  },
  "language_info": {
   "codemirror_mode": {
    "name": "ipython",
    "version": 3
   },
   "file_extension": ".py",
   "mimetype": "text/x-python",
   "name": "python",
   "nbconvert_exporter": "python",
   "pygments_lexer": "ipython3",
   "version": "3.9.1"
  },
  "vscode": {
   "interpreter": {
    "hash": "501834c540f8b330c04c1d43ec1666643355d13f80c9caf7e1080236b3fb263f"
   }
  }
 },
 "nbformat": 4,
 "nbformat_minor": 2
}
